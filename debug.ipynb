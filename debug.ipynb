{
 "cells": [
  {
   "cell_type": "code",
   "execution_count": null,
   "metadata": {},
   "outputs": [
    {
     "name": "stdout",
     "output_type": "stream",
     "text": [
      "Successfully loaded dataset module: IWFullSceneDataset\n",
      "Successfully loaded color maps and class names for dataset 'IWFullSceneDataset'\n",
      "Loaded and validated config from configs/S1/FLaTO.yaml: {'model_name': 'FLaTO', 'img_size': 224, 'num_classes': 2, 'weights': None, 'transfer_weights': 'results/S1_10shot/FLaTO_best.pth', 'load_mode': 'best', 'learning_rate': 0.001, 'batch_size': 4, 'num_workers': 4, 'patience': 50, 'delta': 0.005, 'loss': 'ce,focal', 'loss_weights': None, 'num_epochs': 500, 'model_save_dir': './results/S1_100shot', 'metrics': ['mIoU', 'precision', 'recall', 'f1_score'], 'export': False, 'conf_threshold': None, 'save_interval': 5, 'in_channels': 3, 'ds': {'name': 'IWFullSceneDataset', 'train_paths': ['datasets/S1/S1_100shot'], 'test_paths': ['datasets/S1/S1_100shot'], 'color_to_class': {(0, 0, 0): 0, (255, 255, 255): 1}, 'class_to_color': {0: (0, 0, 0), 1: (255, 255, 255)}, 'class_name': ['background', 'internal wave']}}\n",
      "Successfully loaded dataset module: IWFullSceneDataset\n"
     ]
    },
    {
     "name": "stderr",
     "output_type": "stream",
     "text": [
      "Processing images in datasets/S1/S1_100shot:   0%|          | 1/729 [00:06<1:24:01,  6.93s/it]"
     ]
    },
    {
     "name": "stdout",
     "output_type": "stream",
     "text": [
      "Successfully processed 101.jpg\n",
      "Successfully processed 1.jpg\n",
      "Successfully processed 100.jpg\n",
      "Successfully processed 10.jpg\n"
     ]
    },
    {
     "name": "stderr",
     "output_type": "stream",
     "text": [
      "Processing images in datasets/S1/S1_100shot:   1%|          | 5/729 [00:13<28:42,  2.38s/it]  "
     ]
    },
    {
     "name": "stdout",
     "output_type": "stream",
     "text": [
      "Successfully processed 102.jpg\n"
     ]
    },
    {
     "name": "stderr",
     "output_type": "stream",
     "text": [
      "Processing images in datasets/S1/S1_100shot:   1%|          | 6/729 [00:13<22:38,  1.88s/it]"
     ]
    },
    {
     "name": "stdout",
     "output_type": "stream",
     "text": [
      "Successfully processed 103.jpg\n",
      "Successfully processed 105.jpg\n",
      "Successfully processed 104.jpg\n"
     ]
    },
    {
     "name": "stderr",
     "output_type": "stream",
     "text": [
      "Processing images in datasets/S1/S1_100shot:   1%|▏         | 10/729 [00:20<20:15,  1.69s/it]"
     ]
    },
    {
     "name": "stdout",
     "output_type": "stream",
     "text": [
      "Successfully processed 106.jpg\n",
      "Successfully processed 107.jpg\n",
      "Successfully processed 108.jpg\n",
      "Successfully processed 109.jpg\n"
     ]
    },
    {
     "name": "stderr",
     "output_type": "stream",
     "text": [
      "Processing images in datasets/S1/S1_100shot:   2%|▏         | 13/729 [00:26<22:51,  1.92s/it]"
     ]
    },
    {
     "name": "stdout",
     "output_type": "stream",
     "text": [
      "Successfully processed 11.jpg\n",
      "Successfully processed 111.jpg\n"
     ]
    },
    {
     "name": "stderr",
     "output_type": "stream",
     "text": [
      "Processing images in datasets/S1/S1_100shot:   2%|▏         | 16/729 [00:27<12:58,  1.09s/it]"
     ]
    },
    {
     "name": "stdout",
     "output_type": "stream",
     "text": [
      "Successfully processed 110.jpg\n",
      "Successfully processed 112.jpg\n",
      "Successfully processed 114.jpg\n"
     ]
    },
    {
     "name": "stderr",
     "output_type": "stream",
     "text": [
      "Processing images in datasets/S1/S1_100shot:   2%|▏         | 17/729 [00:33<25:23,  2.14s/it]"
     ]
    },
    {
     "name": "stdout",
     "output_type": "stream",
     "text": [
      "Successfully processed 115.jpg\n",
      "Successfully processed 113.jpg\n"
     ]
    },
    {
     "name": "stderr",
     "output_type": "stream",
     "text": [
      "Processing images in datasets/S1/S1_100shot:   3%|▎         | 20/729 [00:33<14:12,  1.20s/it]"
     ]
    },
    {
     "name": "stdout",
     "output_type": "stream",
     "text": [
      "Successfully processed 116.jpg\n"
     ]
    },
    {
     "name": "stderr",
     "output_type": "stream",
     "text": [
      "Processing images in datasets/S1/S1_100shot:   3%|▎         | 22/729 [00:40<20:29,  1.74s/it]"
     ]
    },
    {
     "name": "stdout",
     "output_type": "stream",
     "text": [
      "Successfully processed 117.jpg\n",
      "Successfully processed 119.jpg\n",
      "Successfully processed 118.jpg\n"
     ]
    },
    {
     "name": "stderr",
     "output_type": "stream",
     "text": [
      "Processing images in datasets/S1/S1_100shot:   3%|▎         | 24/729 [00:40<13:40,  1.16s/it]"
     ]
    },
    {
     "name": "stdout",
     "output_type": "stream",
     "text": [
      "Successfully processed 12.jpg\n",
      "Successfully processed 123.jpg\n",
      "Successfully processed 121.jpg\n"
     ]
    },
    {
     "name": "stderr",
     "output_type": "stream",
     "text": [
      "Processing images in datasets/S1/S1_100shot:   3%|▎         | 25/729 [00:47<27:34,  2.35s/it]"
     ]
    },
    {
     "name": "stdout",
     "output_type": "stream",
     "text": [
      "Successfully processed 124.jpg\n",
      "Successfully processed 120.jpg\n"
     ]
    },
    {
     "name": "stderr",
     "output_type": "stream",
     "text": [
      "Processing images in datasets/S1/S1_100shot:   4%|▍         | 29/729 [00:54<22:43,  1.95s/it]"
     ]
    },
    {
     "name": "stdout",
     "output_type": "stream",
     "text": [
      "Successfully processed 125.jpg\n"
     ]
    },
    {
     "name": "stderr",
     "output_type": "stream",
     "text": [
      "Processing images in datasets/S1/S1_100shot:   4%|▍         | 30/729 [00:54<19:27,  1.67s/it]"
     ]
    },
    {
     "name": "stdout",
     "output_type": "stream",
     "text": [
      "Successfully processed 126.jpg\n",
      "Successfully processed 128.jpg\n",
      "Successfully processed 127.jpg\n",
      "Successfully processed 130.jpg\n"
     ]
    },
    {
     "name": "stderr",
     "output_type": "stream",
     "text": [
      "Processing images in datasets/S1/S1_100shot:   5%|▍         | 33/729 [01:01<22:18,  1.92s/it]"
     ]
    },
    {
     "name": "stdout",
     "output_type": "stream",
     "text": [
      "Successfully processed 129.jpg\n",
      "Successfully processed 131.jpg\n",
      "Successfully processed 13.jpg\n"
     ]
    },
    {
     "name": "stderr",
     "output_type": "stream",
     "text": [
      "Processing images in datasets/S1/S1_100shot:   5%|▌         | 37/729 [01:07<19:49,  1.72s/it]"
     ]
    },
    {
     "name": "stdout",
     "output_type": "stream",
     "text": [
      "Successfully processed 132.jpg\n"
     ]
    },
    {
     "name": "stderr",
     "output_type": "stream",
     "text": [
      "Processing images in datasets/S1/S1_100shot:   5%|▌         | 38/729 [01:08<18:56,  1.64s/it]"
     ]
    },
    {
     "name": "stdout",
     "output_type": "stream",
     "text": [
      "Successfully processed 135.jpg\n",
      "Successfully processed 133.jpg\n",
      "Successfully processed 134.jpg\n"
     ]
    },
    {
     "name": "stderr",
     "output_type": "stream",
     "text": [
      "Processing images in datasets/S1/S1_100shot:   6%|▌         | 41/729 [01:13<19:46,  1.73s/it]"
     ]
    },
    {
     "name": "stdout",
     "output_type": "stream",
     "text": [
      "Successfully processed 136.jpg\n"
     ]
    },
    {
     "name": "stderr",
     "output_type": "stream",
     "text": [
      "Processing images in datasets/S1/S1_100shot:   6%|▌         | 43/729 [01:15<15:24,  1.35s/it]"
     ]
    },
    {
     "name": "stdout",
     "output_type": "stream",
     "text": [
      "Successfully processed 137.jpg\n",
      "Successfully processed 139.jpg\n",
      "Successfully processed 138.jpg\n"
     ]
    },
    {
     "name": "stderr",
     "output_type": "stream",
     "text": [
      "Processing images in datasets/S1/S1_100shot:   6%|▌         | 45/729 [01:20<20:13,  1.77s/it]"
     ]
    },
    {
     "name": "stdout",
     "output_type": "stream",
     "text": [
      "Successfully processed 14.jpg\n"
     ]
    },
    {
     "name": "stderr",
     "output_type": "stream",
     "text": [
      "Processing images in datasets/S1/S1_100shot:   6%|▋         | 46/729 [01:21<18:58,  1.67s/it]"
     ]
    },
    {
     "name": "stdout",
     "output_type": "stream",
     "text": [
      "Successfully processed 143.jpg\n",
      "Successfully processed 140.jpg\n"
     ]
    },
    {
     "name": "stderr",
     "output_type": "stream",
     "text": [
      "Processing images in datasets/S1/S1_100shot:   6%|▋         | 47/729 [01:21<15:37,  1.37s/it]"
     ]
    },
    {
     "name": "stdout",
     "output_type": "stream",
     "text": [
      "Successfully processed 141.jpg\n"
     ]
    },
    {
     "name": "stderr",
     "output_type": "stream",
     "text": [
      "Processing images in datasets/S1/S1_100shot:   7%|▋         | 49/729 [01:27<21:49,  1.93s/it]"
     ]
    },
    {
     "name": "stdout",
     "output_type": "stream",
     "text": [
      "Successfully processed 144.jpg\n"
     ]
    },
    {
     "name": "stderr",
     "output_type": "stream",
     "text": [
      "Processing images in datasets/S1/S1_100shot:   7%|▋         | 50/729 [01:28<19:03,  1.68s/it]"
     ]
    },
    {
     "name": "stdout",
     "output_type": "stream",
     "text": [
      "Successfully processed 145.jpg\n"
     ]
    },
    {
     "name": "stderr",
     "output_type": "stream",
     "text": [
      "Processing images in datasets/S1/S1_100shot:   7%|▋         | 51/729 [01:28<15:59,  1.41s/it]"
     ]
    },
    {
     "name": "stdout",
     "output_type": "stream",
     "text": [
      "Successfully processed 146.jpg\n",
      "Successfully processed 147.jpg\n"
     ]
    },
    {
     "name": "stderr",
     "output_type": "stream",
     "text": [
      "Processing images in datasets/S1/S1_100shot:   7%|▋         | 53/729 [01:34<22:14,  1.97s/it]"
     ]
    },
    {
     "name": "stdout",
     "output_type": "stream",
     "text": [
      "Successfully processed 148.jpg\n"
     ]
    },
    {
     "name": "stderr",
     "output_type": "stream",
     "text": [
      "Processing images in datasets/S1/S1_100shot:   7%|▋         | 54/729 [01:34<18:46,  1.67s/it]"
     ]
    },
    {
     "name": "stdout",
     "output_type": "stream",
     "text": [
      "Successfully processed 149.jpg\n"
     ]
    },
    {
     "name": "stderr",
     "output_type": "stream",
     "text": [
      "Processing images in datasets/S1/S1_100shot:   8%|▊         | 55/729 [01:35<15:40,  1.40s/it]"
     ]
    },
    {
     "name": "stdout",
     "output_type": "stream",
     "text": [
      "Successfully processed 150.jpg\n",
      "Successfully processed 15.jpg\n"
     ]
    },
    {
     "name": "stderr",
     "output_type": "stream",
     "text": [
      "Processing images in datasets/S1/S1_100shot:   8%|▊         | 57/729 [01:41<23:09,  2.07s/it]"
     ]
    },
    {
     "name": "stdout",
     "output_type": "stream",
     "text": [
      "Successfully processed 151.jpg\n"
     ]
    },
    {
     "name": "stderr",
     "output_type": "stream",
     "text": [
      "Processing images in datasets/S1/S1_100shot:   8%|▊         | 58/729 [01:41<18:31,  1.66s/it]"
     ]
    },
    {
     "name": "stdout",
     "output_type": "stream",
     "text": [
      "Successfully processed 153.jpg\n"
     ]
    },
    {
     "name": "stderr",
     "output_type": "stream",
     "text": [
      "Processing images in datasets/S1/S1_100shot:   8%|▊         | 59/729 [01:42<15:57,  1.43s/it]"
     ]
    },
    {
     "name": "stdout",
     "output_type": "stream",
     "text": [
      "Successfully processed 154.jpg\n",
      "Successfully processed 156.jpg\n"
     ]
    },
    {
     "name": "stderr",
     "output_type": "stream",
     "text": [
      "Processing images in datasets/S1/S1_100shot:   8%|▊         | 61/729 [01:48<22:34,  2.03s/it]"
     ]
    },
    {
     "name": "stdout",
     "output_type": "stream",
     "text": [
      "Successfully processed 157.jpg\n"
     ]
    },
    {
     "name": "stderr",
     "output_type": "stream",
     "text": [
      "Processing images in datasets/S1/S1_100shot:   9%|▊         | 62/729 [01:48<18:24,  1.66s/it]"
     ]
    },
    {
     "name": "stdout",
     "output_type": "stream",
     "text": [
      "Successfully processed 158.jpg\n"
     ]
    },
    {
     "name": "stderr",
     "output_type": "stream",
     "text": [
      "Processing images in datasets/S1/S1_100shot:   9%|▊         | 63/729 [01:49<14:49,  1.34s/it]"
     ]
    },
    {
     "name": "stdout",
     "output_type": "stream",
     "text": [
      "Successfully processed 159.jpg\n",
      "Successfully processed 16.jpg\n"
     ]
    },
    {
     "name": "stderr",
     "output_type": "stream",
     "text": [
      "Processing images in datasets/S1/S1_100shot:   9%|▉         | 65/729 [01:54<22:07,  2.00s/it]"
     ]
    },
    {
     "name": "stdout",
     "output_type": "stream",
     "text": [
      "Successfully processed 160.jpg\n"
     ]
    },
    {
     "name": "stderr",
     "output_type": "stream",
     "text": [
      "Processing images in datasets/S1/S1_100shot:   9%|▉         | 66/729 [01:55<18:49,  1.70s/it]"
     ]
    },
    {
     "name": "stdout",
     "output_type": "stream",
     "text": [
      "Successfully processed 162.jpg\n"
     ]
    },
    {
     "name": "stderr",
     "output_type": "stream",
     "text": [
      "Processing images in datasets/S1/S1_100shot:   9%|▉         | 67/729 [01:55<14:54,  1.35s/it]"
     ]
    },
    {
     "name": "stdout",
     "output_type": "stream",
     "text": [
      "Successfully processed 165.jpg\n",
      "Successfully processed 164.jpg\n"
     ]
    },
    {
     "name": "stderr",
     "output_type": "stream",
     "text": [
      "Processing images in datasets/S1/S1_100shot:   9%|▉         | 69/729 [02:01<20:39,  1.88s/it]"
     ]
    },
    {
     "name": "stdout",
     "output_type": "stream",
     "text": [
      "Successfully processed 166.jpg\n"
     ]
    },
    {
     "name": "stderr",
     "output_type": "stream",
     "text": [
      "Processing images in datasets/S1/S1_100shot:  10%|▉         | 70/729 [02:02<19:03,  1.74s/it]"
     ]
    },
    {
     "name": "stdout",
     "output_type": "stream",
     "text": [
      "Successfully processed 168.jpg\n",
      "Successfully processed 167.jpg\n",
      "Successfully processed 169.jpg\n"
     ]
    },
    {
     "name": "stderr",
     "output_type": "stream",
     "text": [
      "Processing images in datasets/S1/S1_100shot:  10%|█         | 73/729 [02:07<19:07,  1.75s/it]"
     ]
    },
    {
     "name": "stdout",
     "output_type": "stream",
     "text": [
      "Successfully processed 17.jpg\n"
     ]
    },
    {
     "name": "stderr",
     "output_type": "stream",
     "text": [
      "Processing images in datasets/S1/S1_100shot:  10%|█         | 74/729 [02:08<17:56,  1.64s/it]"
     ]
    },
    {
     "name": "stdout",
     "output_type": "stream",
     "text": [
      "Successfully processed 170.jpg\n",
      "Successfully processed 172.jpg\n"
     ]
    },
    {
     "name": "stderr",
     "output_type": "stream",
     "text": [
      "Processing images in datasets/S1/S1_100shot:  10%|█         | 75/729 [02:09<14:54,  1.37s/it]"
     ]
    },
    {
     "name": "stdout",
     "output_type": "stream",
     "text": [
      "Successfully processed 171.jpg\n"
     ]
    },
    {
     "name": "stderr",
     "output_type": "stream",
     "text": [
      "Processing images in datasets/S1/S1_100shot:  11%|█         | 77/729 [02:14<20:10,  1.86s/it]"
     ]
    },
    {
     "name": "stdout",
     "output_type": "stream",
     "text": [
      "Successfully processed 173.jpg\n",
      "Successfully processed 176.jpg\n",
      "Successfully processed 177.jpg\n"
     ]
    },
    {
     "name": "stderr",
     "output_type": "stream",
     "text": [
      "Processing images in datasets/S1/S1_100shot:  11%|█         | 78/729 [02:15<18:54,  1.74s/it]"
     ]
    },
    {
     "name": "stdout",
     "output_type": "stream",
     "text": [
      "Successfully processed 174.jpg\n"
     ]
    },
    {
     "name": "stderr",
     "output_type": "stream",
     "text": [
      "Processing images in datasets/S1/S1_100shot:  11%|█         | 81/729 [02:20<18:28,  1.71s/it]"
     ]
    },
    {
     "name": "stdout",
     "output_type": "stream",
     "text": [
      "Successfully processed 178.jpg\n"
     ]
    },
    {
     "name": "stderr",
     "output_type": "stream",
     "text": [
      "Processing images in datasets/S1/S1_100shot:  11%|█         | 82/729 [02:22<17:52,  1.66s/it]"
     ]
    },
    {
     "name": "stdout",
     "output_type": "stream",
     "text": [
      "Successfully processed 18.jpg\n",
      "Successfully processed 180.jpg\n"
     ]
    },
    {
     "name": "stderr",
     "output_type": "stream",
     "text": [
      "Processing images in datasets/S1/S1_100shot:  12%|█▏        | 84/729 [02:22<12:17,  1.14s/it]"
     ]
    },
    {
     "name": "stdout",
     "output_type": "stream",
     "text": [
      "Successfully processed 182.jpg\n"
     ]
    },
    {
     "name": "stderr",
     "output_type": "stream",
     "text": [
      "Processing images in datasets/S1/S1_100shot:  12%|█▏        | 85/729 [02:27<20:51,  1.94s/it]"
     ]
    },
    {
     "name": "stdout",
     "output_type": "stream",
     "text": [
      "Successfully processed 183.jpg\n",
      "Successfully processed 185.jpg\n"
     ]
    },
    {
     "name": "stderr",
     "output_type": "stream",
     "text": [
      "Processing images in datasets/S1/S1_100shot:  12%|█▏        | 86/729 [02:29<19:21,  1.81s/it]"
     ]
    },
    {
     "name": "stdout",
     "output_type": "stream",
     "text": [
      "Successfully processed 184.jpg\n"
     ]
    },
    {
     "name": "stderr",
     "output_type": "stream",
     "text": [
      "Processing images in datasets/S1/S1_100shot:  12%|█▏        | 88/729 [02:29<12:39,  1.18s/it]"
     ]
    },
    {
     "name": "stdout",
     "output_type": "stream",
     "text": [
      "Successfully processed 186.jpg\n"
     ]
    },
    {
     "name": "stderr",
     "output_type": "stream",
     "text": [
      "Processing images in datasets/S1/S1_100shot:  12%|█▏        | 89/729 [02:34<21:37,  2.03s/it]"
     ]
    },
    {
     "name": "stdout",
     "output_type": "stream",
     "text": [
      "Successfully processed 188.jpg\n"
     ]
    },
    {
     "name": "stderr",
     "output_type": "stream",
     "text": [
      "Processing images in datasets/S1/S1_100shot:  12%|█▏        | 90/729 [02:35<18:18,  1.72s/it]"
     ]
    },
    {
     "name": "stdout",
     "output_type": "stream",
     "text": [
      "Successfully processed 189.jpg\n"
     ]
    },
    {
     "name": "stderr",
     "output_type": "stream",
     "text": [
      "Processing images in datasets/S1/S1_100shot:  12%|█▏        | 91/729 [02:36<15:30,  1.46s/it]"
     ]
    },
    {
     "name": "stdout",
     "output_type": "stream",
     "text": [
      "Successfully processed 19.jpg\n"
     ]
    },
    {
     "name": "stderr",
     "output_type": "stream",
     "text": [
      "Processing images in datasets/S1/S1_100shot:  13%|█▎        | 92/729 [02:36<12:15,  1.15s/it]"
     ]
    },
    {
     "name": "stdout",
     "output_type": "stream",
     "text": [
      "Successfully processed 190.jpg\n"
     ]
    },
    {
     "name": "stderr",
     "output_type": "stream",
     "text": [
      "Processing images in datasets/S1/S1_100shot:  13%|█▎        | 93/729 [02:42<25:27,  2.40s/it]"
     ]
    },
    {
     "name": "stdout",
     "output_type": "stream",
     "text": [
      "Successfully processed 191.jpg\n"
     ]
    },
    {
     "name": "stderr",
     "output_type": "stream",
     "text": [
      "Processing images in datasets/S1/S1_100shot:  13%|█▎        | 94/729 [02:42<19:04,  1.80s/it]"
     ]
    },
    {
     "name": "stdout",
     "output_type": "stream",
     "text": [
      "Successfully processed 193.jpg\n"
     ]
    },
    {
     "name": "stderr",
     "output_type": "stream",
     "text": [
      "Processing images in datasets/S1/S1_100shot:  13%|█▎        | 95/729 [02:42<14:59,  1.42s/it]"
     ]
    },
    {
     "name": "stdout",
     "output_type": "stream",
     "text": [
      "Successfully processed 194.jpg\n"
     ]
    },
    {
     "name": "stderr",
     "output_type": "stream",
     "text": [
      "Processing images in datasets/S1/S1_100shot:  13%|█▎        | 96/729 [02:43<11:53,  1.13s/it]"
     ]
    },
    {
     "name": "stdout",
     "output_type": "stream",
     "text": [
      "Successfully processed 196.jpg\n"
     ]
    },
    {
     "name": "stderr",
     "output_type": "stream",
     "text": [
      "Processing images in datasets/S1/S1_100shot:  13%|█▎        | 97/729 [02:48<26:00,  2.47s/it]"
     ]
    },
    {
     "name": "stdout",
     "output_type": "stream",
     "text": [
      "Successfully processed 198.jpg\n",
      "Successfully processed 197.jpg\n"
     ]
    },
    {
     "name": "stderr",
     "output_type": "stream",
     "text": [
      "Processing images in datasets/S1/S1_100shot:  14%|█▎        | 99/729 [02:49<16:02,  1.53s/it]"
     ]
    },
    {
     "name": "stdout",
     "output_type": "stream",
     "text": [
      "Successfully processed 199.jpg\n"
     ]
    },
    {
     "name": "stderr",
     "output_type": "stream",
     "text": [
      "Processing images in datasets/S1/S1_100shot:  14%|█▎        | 100/729 [02:50<13:17,  1.27s/it]"
     ]
    },
    {
     "name": "stdout",
     "output_type": "stream",
     "text": [
      "Successfully processed 2.jpg\n"
     ]
    },
    {
     "name": "stderr",
     "output_type": "stream",
     "text": [
      "Processing images in datasets/S1/S1_100shot:  14%|█▍        | 102/729 [02:55<18:20,  1.76s/it]"
     ]
    },
    {
     "name": "stdout",
     "output_type": "stream",
     "text": [
      "Successfully processed 200.jpg\n",
      "Successfully processed 201.jpg\n"
     ]
    },
    {
     "name": "stderr",
     "output_type": "stream",
     "text": [
      "Processing images in datasets/S1/S1_100shot:  14%|█▍        | 103/729 [02:56<15:18,  1.47s/it]"
     ]
    },
    {
     "name": "stdout",
     "output_type": "stream",
     "text": [
      "Successfully processed 202.jpg\n"
     ]
    },
    {
     "name": "stderr",
     "output_type": "stream",
     "text": [
      "Processing images in datasets/S1/S1_100shot:  14%|█▍        | 104/729 [02:57<12:49,  1.23s/it]"
     ]
    },
    {
     "name": "stdout",
     "output_type": "stream",
     "text": [
      "Successfully processed 203.jpg\n"
     ]
    },
    {
     "name": "stderr",
     "output_type": "stream",
     "text": [
      "Processing images in datasets/S1/S1_100shot:  14%|█▍        | 105/729 [03:02<25:21,  2.44s/it]"
     ]
    },
    {
     "name": "stdout",
     "output_type": "stream",
     "text": [
      "Successfully processed 204.jpg\n",
      "Successfully processed 205.jpg\n"
     ]
    },
    {
     "name": "stderr",
     "output_type": "stream",
     "text": [
      "Processing images in datasets/S1/S1_100shot:  15%|█▍        | 107/729 [03:03<15:49,  1.53s/it]"
     ]
    },
    {
     "name": "stdout",
     "output_type": "stream",
     "text": [
      "Successfully processed 206.jpg\n"
     ]
    },
    {
     "name": "stderr",
     "output_type": "stream",
     "text": [
      "Processing images in datasets/S1/S1_100shot:  15%|█▍        | 108/729 [03:03<13:05,  1.27s/it]"
     ]
    },
    {
     "name": "stdout",
     "output_type": "stream",
     "text": [
      "Successfully processed 207.jpg\n"
     ]
    },
    {
     "name": "stderr",
     "output_type": "stream",
     "text": [
      "Processing images in datasets/S1/S1_100shot:  15%|█▍        | 109/729 [03:09<24:33,  2.38s/it]"
     ]
    },
    {
     "name": "stdout",
     "output_type": "stream",
     "text": [
      "Successfully processed 209.jpg\n",
      "Successfully processed 208.jpg\n"
     ]
    },
    {
     "name": "stderr",
     "output_type": "stream",
     "text": [
      "Processing images in datasets/S1/S1_100shot:  15%|█▌        | 111/729 [03:10<15:54,  1.55s/it]"
     ]
    },
    {
     "name": "stdout",
     "output_type": "stream",
     "text": [
      "Successfully processed 21.jpg\n"
     ]
    },
    {
     "name": "stderr",
     "output_type": "stream",
     "text": [
      "Processing images in datasets/S1/S1_100shot:  15%|█▌        | 112/729 [03:10<13:32,  1.32s/it]"
     ]
    },
    {
     "name": "stdout",
     "output_type": "stream",
     "text": [
      "Successfully processed 210.jpg\n"
     ]
    },
    {
     "name": "stderr",
     "output_type": "stream",
     "text": [
      "Processing images in datasets/S1/S1_100shot:  16%|█▌        | 113/729 [03:16<24:19,  2.37s/it]"
     ]
    },
    {
     "name": "stdout",
     "output_type": "stream",
     "text": [
      "Successfully processed 211.jpg\n",
      "Successfully processed 212.jpg\n"
     ]
    },
    {
     "name": "stderr",
     "output_type": "stream",
     "text": [
      "Processing images in datasets/S1/S1_100shot:  16%|█▌        | 115/729 [03:16<15:19,  1.50s/it]"
     ]
    },
    {
     "name": "stdout",
     "output_type": "stream",
     "text": [
      "Successfully processed 213.jpg\n"
     ]
    },
    {
     "name": "stderr",
     "output_type": "stream",
     "text": [
      "Processing images in datasets/S1/S1_100shot:  16%|█▌        | 116/729 [03:17<14:07,  1.38s/it]"
     ]
    },
    {
     "name": "stdout",
     "output_type": "stream",
     "text": [
      "Successfully processed 214.jpg\n"
     ]
    },
    {
     "name": "stderr",
     "output_type": "stream",
     "text": [
      "Processing images in datasets/S1/S1_100shot:  16%|█▌        | 118/729 [03:23<18:27,  1.81s/it]"
     ]
    },
    {
     "name": "stdout",
     "output_type": "stream",
     "text": [
      "Successfully processed 215.jpg\n",
      "Successfully processed 216.jpg\n",
      "Successfully processed 217.jpg\n"
     ]
    },
    {
     "name": "stderr",
     "output_type": "stream",
     "text": [
      "Processing images in datasets/S1/S1_100shot:  16%|█▋        | 120/729 [03:25<13:47,  1.36s/it]"
     ]
    },
    {
     "name": "stdout",
     "output_type": "stream",
     "text": [
      "Successfully processed 218.jpg\n"
     ]
    },
    {
     "name": "stderr",
     "output_type": "stream",
     "text": [
      "Processing images in datasets/S1/S1_100shot:  17%|█▋        | 121/729 [03:30<22:48,  2.25s/it]"
     ]
    },
    {
     "name": "stdout",
     "output_type": "stream",
     "text": [
      "Successfully processed 219.jpg\n",
      "Successfully processed 220.jpg\n"
     ]
    },
    {
     "name": "stderr",
     "output_type": "stream",
     "text": [
      "Processing images in datasets/S1/S1_100shot:  17%|█▋        | 122/729 [03:30<17:46,  1.76s/it]"
     ]
    },
    {
     "name": "stdout",
     "output_type": "stream",
     "text": [
      "Successfully processed 22.jpg\n"
     ]
    },
    {
     "name": "stderr",
     "output_type": "stream",
     "text": [
      "Processing images in datasets/S1/S1_100shot:  17%|█▋        | 124/729 [03:31<12:53,  1.28s/it]"
     ]
    },
    {
     "name": "stdout",
     "output_type": "stream",
     "text": [
      "Successfully processed 221.jpg\n",
      "Successfully processed 223.jpg\n"
     ]
    },
    {
     "name": "stderr",
     "output_type": "stream",
     "text": [
      "Processing images in datasets/S1/S1_100shot:  17%|█▋        | 127/729 [03:37<14:03,  1.40s/it]"
     ]
    },
    {
     "name": "stdout",
     "output_type": "stream",
     "text": [
      "Successfully processed 222.jpg\n",
      "Successfully processed 224.jpg\n"
     ]
    },
    {
     "name": "stderr",
     "output_type": "stream",
     "text": [
      "Processing images in datasets/S1/S1_100shot:  18%|█▊        | 128/729 [03:38<13:48,  1.38s/it]"
     ]
    },
    {
     "name": "stdout",
     "output_type": "stream",
     "text": [
      "Successfully processed 225.jpg\n"
     ]
    },
    {
     "name": "stderr",
     "output_type": "stream",
     "text": [
      "Processing images in datasets/S1/S1_100shot:  18%|█▊        | 129/729 [03:44<23:09,  2.32s/it]"
     ]
    },
    {
     "name": "stdout",
     "output_type": "stream",
     "text": [
      "Successfully processed 226.jpg\n"
     ]
    },
    {
     "name": "stderr",
     "output_type": "stream",
     "text": [
      "Processing images in datasets/S1/S1_100shot:  18%|█▊        | 130/729 [03:44<17:54,  1.79s/it]"
     ]
    },
    {
     "name": "stdout",
     "output_type": "stream",
     "text": [
      "Successfully processed 228.jpg\n",
      "Successfully processed 227.jpg\n"
     ]
    },
    {
     "name": "stderr",
     "output_type": "stream",
     "text": [
      "Processing images in datasets/S1/S1_100shot:  18%|█▊        | 132/729 [03:45<13:07,  1.32s/it]"
     ]
    },
    {
     "name": "stdout",
     "output_type": "stream",
     "text": [
      "Successfully processed 229.jpg\n"
     ]
    },
    {
     "name": "stderr",
     "output_type": "stream",
     "text": [
      "Processing images in datasets/S1/S1_100shot:  18%|█▊        | 133/729 [03:51<22:38,  2.28s/it]"
     ]
    },
    {
     "name": "stdout",
     "output_type": "stream",
     "text": [
      "Successfully processed 23.jpg\n",
      "Successfully processed 230.jpg\n"
     ]
    },
    {
     "name": "stderr",
     "output_type": "stream",
     "text": [
      "Processing images in datasets/S1/S1_100shot:  19%|█▊        | 135/729 [03:51<14:26,  1.46s/it]"
     ]
    },
    {
     "name": "stdout",
     "output_type": "stream",
     "text": [
      "Successfully processed 231.jpg\n"
     ]
    },
    {
     "name": "stderr",
     "output_type": "stream",
     "text": [
      "Processing images in datasets/S1/S1_100shot:  19%|█▊        | 136/729 [03:52<13:03,  1.32s/it]"
     ]
    },
    {
     "name": "stdout",
     "output_type": "stream",
     "text": [
      "Successfully processed 232.jpg\n"
     ]
    },
    {
     "name": "stderr",
     "output_type": "stream",
     "text": [
      "Processing images in datasets/S1/S1_100shot:  19%|█▉        | 137/729 [03:58<23:19,  2.36s/it]"
     ]
    },
    {
     "name": "stdout",
     "output_type": "stream",
     "text": [
      "Successfully processed 234.jpg\n",
      "Successfully processed 233.jpg\n"
     ]
    },
    {
     "name": "stderr",
     "output_type": "stream",
     "text": [
      "Processing images in datasets/S1/S1_100shot:  19%|█▉        | 139/729 [03:58<14:59,  1.52s/it]"
     ]
    },
    {
     "name": "stdout",
     "output_type": "stream",
     "text": [
      "Successfully processed 235.jpg\n"
     ]
    },
    {
     "name": "stderr",
     "output_type": "stream",
     "text": [
      "Processing images in datasets/S1/S1_100shot:  19%|█▉        | 140/729 [03:59<12:36,  1.28s/it]"
     ]
    },
    {
     "name": "stdout",
     "output_type": "stream",
     "text": [
      "Successfully processed 236.jpg\n",
      "Successfully processed 238.jpg\n"
     ]
    },
    {
     "name": "stderr",
     "output_type": "stream",
     "text": [
      "Processing images in datasets/S1/S1_100shot:  19%|█▉        | 141/729 [04:05<24:32,  2.50s/it]"
     ]
    },
    {
     "name": "stdout",
     "output_type": "stream",
     "text": [
      "Successfully processed 239.jpg\n",
      "Successfully processed 237.jpg\n"
     ]
    },
    {
     "name": "stderr",
     "output_type": "stream",
     "text": [
      "Processing images in datasets/S1/S1_100shot:  20%|█▉        | 144/729 [04:06<12:46,  1.31s/it]"
     ]
    },
    {
     "name": "stdout",
     "output_type": "stream",
     "text": [
      "Successfully processed 24.jpg\n"
     ]
    },
    {
     "name": "stderr",
     "output_type": "stream",
     "text": [
      "Processing images in datasets/S1/S1_100shot:  20%|█▉        | 145/729 [04:12<21:56,  2.25s/it]"
     ]
    },
    {
     "name": "stdout",
     "output_type": "stream",
     "text": [
      "Successfully processed 240.jpg\n"
     ]
    },
    {
     "name": "stderr",
     "output_type": "stream",
     "text": [
      "Processing images in datasets/S1/S1_100shot:  20%|██        | 147/729 [04:12<13:39,  1.41s/it]"
     ]
    },
    {
     "name": "stdout",
     "output_type": "stream",
     "text": [
      "Successfully processed 241.jpg\n",
      "Successfully processed 242.jpg\n"
     ]
    },
    {
     "name": "stderr",
     "output_type": "stream",
     "text": [
      "Processing images in datasets/S1/S1_100shot:  20%|██        | 148/729 [04:13<11:36,  1.20s/it]"
     ]
    },
    {
     "name": "stdout",
     "output_type": "stream",
     "text": [
      "Successfully processed 243.jpg\n"
     ]
    },
    {
     "name": "stderr",
     "output_type": "stream",
     "text": [
      "Processing images in datasets/S1/S1_100shot:  20%|██        | 149/729 [04:19<24:38,  2.55s/it]"
     ]
    },
    {
     "name": "stdout",
     "output_type": "stream",
     "text": [
      "Successfully processed 245.jpg\n",
      "Successfully processed 244.jpg\n",
      "Successfully processed 246.jpg\n"
     ]
    },
    {
     "name": "stderr",
     "output_type": "stream",
     "text": [
      "Processing images in datasets/S1/S1_100shot:  21%|██        | 152/729 [04:20<12:47,  1.33s/it]"
     ]
    },
    {
     "name": "stdout",
     "output_type": "stream",
     "text": [
      "Successfully processed 247.jpg\n"
     ]
    },
    {
     "name": "stderr",
     "output_type": "stream",
     "text": [
      "Processing images in datasets/S1/S1_100shot:  21%|██        | 153/729 [04:25<21:19,  2.22s/it]"
     ]
    },
    {
     "name": "stdout",
     "output_type": "stream",
     "text": [
      "Successfully processed 248.jpg\n",
      "Successfully processed 249.jpg\n"
     ]
    },
    {
     "name": "stderr",
     "output_type": "stream",
     "text": [
      "Processing images in datasets/S1/S1_100shot:  21%|██▏       | 155/729 [04:26<14:02,  1.47s/it]"
     ]
    },
    {
     "name": "stdout",
     "output_type": "stream",
     "text": [
      "Successfully processed 25.jpg\n"
     ]
    },
    {
     "name": "stderr",
     "output_type": "stream",
     "text": [
      "Processing images in datasets/S1/S1_100shot:  21%|██▏       | 156/729 [04:26<12:33,  1.32s/it]"
     ]
    },
    {
     "name": "stdout",
     "output_type": "stream",
     "text": [
      "Successfully processed 250.jpg\n"
     ]
    },
    {
     "name": "stderr",
     "output_type": "stream",
     "text": [
      "Processing images in datasets/S1/S1_100shot:  22%|██▏       | 159/729 [04:32<13:52,  1.46s/it]"
     ]
    },
    {
     "name": "stdout",
     "output_type": "stream",
     "text": [
      "Successfully processed 251.jpg\n",
      "Successfully processed 252.jpg\n",
      "Successfully processed 253.jpg\n"
     ]
    },
    {
     "name": "stderr",
     "output_type": "stream",
     "text": [
      "Processing images in datasets/S1/S1_100shot:  22%|██▏       | 160/729 [04:33<12:32,  1.32s/it]"
     ]
    },
    {
     "name": "stdout",
     "output_type": "stream",
     "text": [
      "Successfully processed 254.jpg\n"
     ]
    },
    {
     "name": "stderr",
     "output_type": "stream",
     "text": [
      "Processing images in datasets/S1/S1_100shot:  22%|██▏       | 162/729 [04:39<16:57,  1.79s/it]"
     ]
    },
    {
     "name": "stdout",
     "output_type": "stream",
     "text": [
      "Successfully processed 255.jpg\n",
      "Successfully processed 256.jpg\n"
     ]
    },
    {
     "name": "stderr",
     "output_type": "stream",
     "text": [
      "Processing images in datasets/S1/S1_100shot:  22%|██▏       | 163/729 [04:39<13:13,  1.40s/it]"
     ]
    },
    {
     "name": "stdout",
     "output_type": "stream",
     "text": [
      "Successfully processed 257.jpg\n"
     ]
    },
    {
     "name": "stderr",
     "output_type": "stream",
     "text": [
      "Processing images in datasets/S1/S1_100shot:  22%|██▏       | 164/729 [04:40<11:26,  1.21s/it]"
     ]
    },
    {
     "name": "stdout",
     "output_type": "stream",
     "text": [
      "Successfully processed 258.jpg\n"
     ]
    },
    {
     "name": "stderr",
     "output_type": "stream",
     "text": [
      "Processing images in datasets/S1/S1_100shot:  23%|██▎       | 165/729 [04:46<22:48,  2.43s/it]"
     ]
    },
    {
     "name": "stdout",
     "output_type": "stream",
     "text": [
      "Successfully processed 259.jpg\n",
      "Successfully processed 26.jpg\n"
     ]
    },
    {
     "name": "stderr",
     "output_type": "stream",
     "text": [
      "Processing images in datasets/S1/S1_100shot:  23%|██▎       | 167/729 [04:46<13:12,  1.41s/it]"
     ]
    },
    {
     "name": "stdout",
     "output_type": "stream",
     "text": [
      "Successfully processed 260.jpg\n"
     ]
    },
    {
     "name": "stderr",
     "output_type": "stream",
     "text": [
      "Processing images in datasets/S1/S1_100shot:  23%|██▎       | 168/729 [04:47<12:00,  1.28s/it]"
     ]
    },
    {
     "name": "stdout",
     "output_type": "stream",
     "text": [
      "Successfully processed 261.jpg\n",
      "Successfully processed 263.jpg\n"
     ]
    },
    {
     "name": "stderr",
     "output_type": "stream",
     "text": [
      "Processing images in datasets/S1/S1_100shot:  23%|██▎       | 169/729 [04:53<23:04,  2.47s/it]"
     ]
    },
    {
     "name": "stdout",
     "output_type": "stream",
     "text": [
      "Successfully processed 262.jpg\n",
      "Successfully processed 264.jpg\n"
     ]
    },
    {
     "name": "stderr",
     "output_type": "stream",
     "text": [
      "Processing images in datasets/S1/S1_100shot:  24%|██▎       | 172/729 [04:54<12:28,  1.34s/it]"
     ]
    },
    {
     "name": "stdout",
     "output_type": "stream",
     "text": [
      "Successfully processed 265.jpg\n"
     ]
    },
    {
     "name": "stderr",
     "output_type": "stream",
     "text": [
      "Processing images in datasets/S1/S1_100shot:  24%|██▎       | 173/729 [04:59<19:16,  2.08s/it]"
     ]
    },
    {
     "name": "stdout",
     "output_type": "stream",
     "text": [
      "Successfully processed 266.jpg\n"
     ]
    },
    {
     "name": "stderr",
     "output_type": "stream",
     "text": [
      "Processing images in datasets/S1/S1_100shot:  24%|██▍       | 174/729 [04:59<15:42,  1.70s/it]"
     ]
    },
    {
     "name": "stdout",
     "output_type": "stream",
     "text": [
      "Successfully processed 267.jpg\n",
      "Successfully processed 268.jpg\n"
     ]
    },
    {
     "name": "stderr",
     "output_type": "stream",
     "text": [
      "Processing images in datasets/S1/S1_100shot:  24%|██▍       | 176/729 [05:00<11:31,  1.25s/it]"
     ]
    },
    {
     "name": "stdout",
     "output_type": "stream",
     "text": [
      "Successfully processed 269.jpg\n"
     ]
    },
    {
     "name": "stderr",
     "output_type": "stream",
     "text": [
      "Processing images in datasets/S1/S1_100shot:  24%|██▍       | 177/729 [05:06<20:12,  2.20s/it]"
     ]
    },
    {
     "name": "stdout",
     "output_type": "stream",
     "text": [
      "Successfully processed 27.jpg\n"
     ]
    },
    {
     "name": "stderr",
     "output_type": "stream",
     "text": [
      "Processing images in datasets/S1/S1_100shot:  24%|██▍       | 178/729 [05:06<16:14,  1.77s/it]"
     ]
    },
    {
     "name": "stdout",
     "output_type": "stream",
     "text": [
      "Successfully processed 271.jpg\n",
      "Successfully processed 270.jpg\n"
     ]
    },
    {
     "name": "stderr",
     "output_type": "stream",
     "text": [
      "Processing images in datasets/S1/S1_100shot:  25%|██▍       | 180/729 [05:07<10:42,  1.17s/it]"
     ]
    },
    {
     "name": "stdout",
     "output_type": "stream",
     "text": [
      "Successfully processed 272.jpg\n"
     ]
    },
    {
     "name": "stderr",
     "output_type": "stream",
     "text": [
      "Processing images in datasets/S1/S1_100shot:  25%|██▍       | 181/729 [05:13<20:35,  2.26s/it]"
     ]
    },
    {
     "name": "stdout",
     "output_type": "stream",
     "text": [
      "Successfully processed 274.jpg\n",
      "Successfully processed 273.jpg\n"
     ]
    },
    {
     "name": "stderr",
     "output_type": "stream",
     "text": [
      "Processing images in datasets/S1/S1_100shot:  25%|██▌       | 183/729 [05:13<13:04,  1.44s/it]"
     ]
    },
    {
     "name": "stdout",
     "output_type": "stream",
     "text": [
      "Successfully processed 275.jpg\n"
     ]
    },
    {
     "name": "stderr",
     "output_type": "stream",
     "text": [
      "Processing images in datasets/S1/S1_100shot:  25%|██▌       | 184/729 [05:14<11:16,  1.24s/it]"
     ]
    },
    {
     "name": "stdout",
     "output_type": "stream",
     "text": [
      "Successfully processed 276.jpg\n"
     ]
    },
    {
     "name": "stderr",
     "output_type": "stream",
     "text": [
      "Processing images in datasets/S1/S1_100shot:  25%|██▌       | 185/729 [05:19<20:45,  2.29s/it]"
     ]
    },
    {
     "name": "stdout",
     "output_type": "stream",
     "text": [
      "Successfully processed 277.jpg\n"
     ]
    },
    {
     "name": "stderr",
     "output_type": "stream",
     "text": [
      "Processing images in datasets/S1/S1_100shot:  26%|██▌       | 186/729 [05:20<16:29,  1.82s/it]"
     ]
    },
    {
     "name": "stdout",
     "output_type": "stream",
     "text": [
      "Successfully processed 278.jpg\n"
     ]
    },
    {
     "name": "stderr",
     "output_type": "stream",
     "text": [
      "Processing images in datasets/S1/S1_100shot:  26%|██▌       | 187/729 [05:20<12:36,  1.40s/it]"
     ]
    },
    {
     "name": "stdout",
     "output_type": "stream",
     "text": [
      "Successfully processed 279.jpg\n"
     ]
    },
    {
     "name": "stderr",
     "output_type": "stream",
     "text": [
      "Processing images in datasets/S1/S1_100shot:  26%|██▌       | 188/729 [05:21<11:03,  1.23s/it]"
     ]
    },
    {
     "name": "stdout",
     "output_type": "stream",
     "text": [
      "Successfully processed 28.jpg\n"
     ]
    },
    {
     "name": "stderr",
     "output_type": "stream",
     "text": [
      "Processing images in datasets/S1/S1_100shot:  26%|██▌       | 189/729 [05:26<21:58,  2.44s/it]"
     ]
    },
    {
     "name": "stdout",
     "output_type": "stream",
     "text": [
      "Successfully processed 280.jpg\n"
     ]
    },
    {
     "name": "stderr",
     "output_type": "stream",
     "text": [
      "Processing images in datasets/S1/S1_100shot:  26%|██▌       | 190/729 [05:27<16:41,  1.86s/it]"
     ]
    },
    {
     "name": "stdout",
     "output_type": "stream",
     "text": [
      "Successfully processed 281.jpg\n"
     ]
    },
    {
     "name": "stderr",
     "output_type": "stream",
     "text": [
      "Processing images in datasets/S1/S1_100shot:  26%|██▌       | 191/729 [05:27<13:07,  1.46s/it]"
     ]
    },
    {
     "name": "stdout",
     "output_type": "stream",
     "text": [
      "Successfully processed 282.jpg\n"
     ]
    },
    {
     "name": "stderr",
     "output_type": "stream",
     "text": [
      "Processing images in datasets/S1/S1_100shot:  26%|██▋       | 192/729 [05:28<11:08,  1.25s/it]"
     ]
    },
    {
     "name": "stdout",
     "output_type": "stream",
     "text": [
      "Successfully processed 283.jpg\n"
     ]
    },
    {
     "name": "stderr",
     "output_type": "stream",
     "text": [
      "Processing images in datasets/S1/S1_100shot:  26%|██▋       | 193/729 [05:33<21:08,  2.37s/it]"
     ]
    },
    {
     "name": "stdout",
     "output_type": "stream",
     "text": [
      "Successfully processed 284.jpg\n"
     ]
    },
    {
     "name": "stderr",
     "output_type": "stream",
     "text": [
      "Processing images in datasets/S1/S1_100shot:  27%|██▋       | 194/729 [05:33<15:55,  1.79s/it]"
     ]
    },
    {
     "name": "stdout",
     "output_type": "stream",
     "text": [
      "Successfully processed 285.jpg\n"
     ]
    },
    {
     "name": "stderr",
     "output_type": "stream",
     "text": [
      "Processing images in datasets/S1/S1_100shot:  27%|██▋       | 195/729 [05:34<11:49,  1.33s/it]"
     ]
    },
    {
     "name": "stdout",
     "output_type": "stream",
     "text": [
      "Successfully processed 286.jpg\n"
     ]
    },
    {
     "name": "stderr",
     "output_type": "stream",
     "text": [
      "Processing images in datasets/S1/S1_100shot:  27%|██▋       | 196/729 [05:34<10:28,  1.18s/it]"
     ]
    },
    {
     "name": "stdout",
     "output_type": "stream",
     "text": [
      "Successfully processed 287.jpg\n"
     ]
    },
    {
     "name": "stderr",
     "output_type": "stream",
     "text": [
      "Processing images in datasets/S1/S1_100shot:  27%|██▋       | 197/729 [05:39<20:41,  2.33s/it]"
     ]
    },
    {
     "name": "stdout",
     "output_type": "stream",
     "text": [
      "Successfully processed 288.jpg\n"
     ]
    },
    {
     "name": "stderr",
     "output_type": "stream",
     "text": [
      "Processing images in datasets/S1/S1_100shot:  27%|██▋       | 198/729 [05:40<16:02,  1.81s/it]"
     ]
    },
    {
     "name": "stdout",
     "output_type": "stream",
     "text": [
      "Successfully processed 289.jpg\n"
     ]
    },
    {
     "name": "stderr",
     "output_type": "stream",
     "text": [
      "Processing images in datasets/S1/S1_100shot:  27%|██▋       | 199/729 [05:41<12:28,  1.41s/it]"
     ]
    },
    {
     "name": "stdout",
     "output_type": "stream",
     "text": [
      "Successfully processed 29.jpg\n"
     ]
    },
    {
     "name": "stderr",
     "output_type": "stream",
     "text": [
      "Processing images in datasets/S1/S1_100shot:  27%|██▋       | 200/729 [05:41<10:29,  1.19s/it]"
     ]
    },
    {
     "name": "stdout",
     "output_type": "stream",
     "text": [
      "Successfully processed 290.jpg\n"
     ]
    },
    {
     "name": "stderr",
     "output_type": "stream",
     "text": [
      "Processing images in datasets/S1/S1_100shot:  28%|██▊       | 201/729 [05:46<19:36,  2.23s/it]"
     ]
    },
    {
     "name": "stdout",
     "output_type": "stream",
     "text": [
      "Successfully processed 291.jpg\n"
     ]
    },
    {
     "name": "stderr",
     "output_type": "stream",
     "text": [
      "Processing images in datasets/S1/S1_100shot:  28%|██▊       | 202/729 [05:47<15:47,  1.80s/it]"
     ]
    },
    {
     "name": "stdout",
     "output_type": "stream",
     "text": [
      "Successfully processed 292.jpg\n"
     ]
    },
    {
     "name": "stderr",
     "output_type": "stream",
     "text": [
      "Processing images in datasets/S1/S1_100shot:  28%|██▊       | 203/729 [05:47<12:20,  1.41s/it]"
     ]
    },
    {
     "name": "stdout",
     "output_type": "stream",
     "text": [
      "Successfully processed 293.jpg\n"
     ]
    },
    {
     "name": "stderr",
     "output_type": "stream",
     "text": [
      "Processing images in datasets/S1/S1_100shot:  28%|██▊       | 204/729 [05:48<10:29,  1.20s/it]"
     ]
    },
    {
     "name": "stdout",
     "output_type": "stream",
     "text": [
      "Successfully processed 294.jpg\n"
     ]
    },
    {
     "name": "stderr",
     "output_type": "stream",
     "text": [
      "Processing images in datasets/S1/S1_100shot:  28%|██▊       | 205/729 [05:52<19:25,  2.22s/it]"
     ]
    },
    {
     "name": "stdout",
     "output_type": "stream",
     "text": [
      "Successfully processed 295.jpg\n"
     ]
    },
    {
     "name": "stderr",
     "output_type": "stream",
     "text": [
      "Processing images in datasets/S1/S1_100shot:  28%|██▊       | 206/729 [05:54<16:24,  1.88s/it]"
     ]
    },
    {
     "name": "stdout",
     "output_type": "stream",
     "text": [
      "Successfully processed 297.jpg\n",
      "Successfully processed 296.jpg\n"
     ]
    },
    {
     "name": "stderr",
     "output_type": "stream",
     "text": [
      "Processing images in datasets/S1/S1_100shot:  29%|██▊       | 208/729 [05:54<10:31,  1.21s/it]"
     ]
    },
    {
     "name": "stdout",
     "output_type": "stream",
     "text": [
      "Successfully processed 298.jpg\n"
     ]
    },
    {
     "name": "stderr",
     "output_type": "stream",
     "text": [
      "Processing images in datasets/S1/S1_100shot:  29%|██▊       | 209/729 [06:00<19:18,  2.23s/it]"
     ]
    },
    {
     "name": "stdout",
     "output_type": "stream",
     "text": [
      "Successfully processed 299.jpg\n"
     ]
    },
    {
     "name": "stderr",
     "output_type": "stream",
     "text": [
      "Processing images in datasets/S1/S1_100shot:  29%|██▉       | 210/729 [06:01<16:06,  1.86s/it]"
     ]
    },
    {
     "name": "stdout",
     "output_type": "stream",
     "text": [
      "Successfully processed 30.jpg\n",
      "Successfully processed 3.jpg\n"
     ]
    },
    {
     "name": "stderr",
     "output_type": "stream",
     "text": [
      "Processing images in datasets/S1/S1_100shot:  29%|██▉       | 212/729 [06:01<10:37,  1.23s/it]"
     ]
    },
    {
     "name": "stdout",
     "output_type": "stream",
     "text": [
      "Successfully processed 300.jpg\n"
     ]
    },
    {
     "name": "stderr",
     "output_type": "stream",
     "text": [
      "Processing images in datasets/S1/S1_100shot:  29%|██▉       | 213/729 [06:07<19:16,  2.24s/it]"
     ]
    },
    {
     "name": "stdout",
     "output_type": "stream",
     "text": [
      "Successfully processed 301.jpg\n"
     ]
    },
    {
     "name": "stderr",
     "output_type": "stream",
     "text": [
      "Processing images in datasets/S1/S1_100shot:  29%|██▉       | 214/729 [06:07<15:20,  1.79s/it]"
     ]
    },
    {
     "name": "stdout",
     "output_type": "stream",
     "text": [
      "Successfully processed 302.jpg\n",
      "Successfully processed 303.jpg\n"
     ]
    },
    {
     "name": "stderr",
     "output_type": "stream",
     "text": [
      "Processing images in datasets/S1/S1_100shot:  30%|██▉       | 216/729 [06:08<10:40,  1.25s/it]"
     ]
    },
    {
     "name": "stdout",
     "output_type": "stream",
     "text": [
      "Successfully processed 304.jpg\n"
     ]
    },
    {
     "name": "stderr",
     "output_type": "stream",
     "text": [
      "Processing images in datasets/S1/S1_100shot:  30%|██▉       | 217/729 [06:13<17:53,  2.10s/it]"
     ]
    },
    {
     "name": "stdout",
     "output_type": "stream",
     "text": [
      "Successfully processed 305.jpg\n"
     ]
    },
    {
     "name": "stderr",
     "output_type": "stream",
     "text": [
      "Processing images in datasets/S1/S1_100shot:  30%|██▉       | 218/729 [06:14<15:12,  1.79s/it]"
     ]
    },
    {
     "name": "stdout",
     "output_type": "stream",
     "text": [
      "Successfully processed 306.jpg\n"
     ]
    },
    {
     "name": "stderr",
     "output_type": "stream",
     "text": [
      "Processing images in datasets/S1/S1_100shot:  30%|███       | 219/729 [06:14<11:50,  1.39s/it]"
     ]
    },
    {
     "name": "stdout",
     "output_type": "stream",
     "text": [
      "Successfully processed 307.jpg\n"
     ]
    },
    {
     "name": "stderr",
     "output_type": "stream",
     "text": [
      "Processing images in datasets/S1/S1_100shot:  30%|███       | 220/729 [06:15<10:28,  1.23s/it]"
     ]
    },
    {
     "name": "stdout",
     "output_type": "stream",
     "text": [
      "Successfully processed 308.jpg\n"
     ]
    },
    {
     "name": "stderr",
     "output_type": "stream",
     "text": [
      "Processing images in datasets/S1/S1_100shot:  30%|███       | 221/729 [06:20<18:51,  2.23s/it]"
     ]
    },
    {
     "name": "stdout",
     "output_type": "stream",
     "text": [
      "Successfully processed 309.jpg\n"
     ]
    },
    {
     "name": "stderr",
     "output_type": "stream",
     "text": [
      "Processing images in datasets/S1/S1_100shot:  31%|███       | 223/729 [06:21<12:06,  1.43s/it]"
     ]
    },
    {
     "name": "stdout",
     "output_type": "stream",
     "text": [
      "Successfully processed 31.jpg\n",
      "Successfully processed 310.jpg\n"
     ]
    },
    {
     "name": "stderr",
     "output_type": "stream",
     "text": [
      "Processing images in datasets/S1/S1_100shot:  31%|███       | 224/729 [06:22<10:29,  1.25s/it]"
     ]
    },
    {
     "name": "stdout",
     "output_type": "stream",
     "text": [
      "Successfully processed 311.jpg\n"
     ]
    },
    {
     "name": "stderr",
     "output_type": "stream",
     "text": [
      "Processing images in datasets/S1/S1_100shot:  31%|███       | 225/729 [06:27<19:54,  2.37s/it]"
     ]
    },
    {
     "name": "stdout",
     "output_type": "stream",
     "text": [
      "Successfully processed 312.jpg\n"
     ]
    },
    {
     "name": "stderr",
     "output_type": "stream",
     "text": [
      "Processing images in datasets/S1/S1_100shot:  31%|███       | 226/729 [06:28<16:19,  1.95s/it]"
     ]
    },
    {
     "name": "stdout",
     "output_type": "stream",
     "text": [
      "Successfully processed 313.jpg\n",
      "Successfully processed 314.jpg\n"
     ]
    },
    {
     "name": "stderr",
     "output_type": "stream",
     "text": [
      "Processing images in datasets/S1/S1_100shot:  31%|███▏      | 228/729 [06:29<10:42,  1.28s/it]"
     ]
    },
    {
     "name": "stdout",
     "output_type": "stream",
     "text": [
      "Successfully processed 315.jpg\n"
     ]
    },
    {
     "name": "stderr",
     "output_type": "stream",
     "text": [
      "Processing images in datasets/S1/S1_100shot:  31%|███▏      | 229/729 [06:35<18:57,  2.28s/it]"
     ]
    },
    {
     "name": "stdout",
     "output_type": "stream",
     "text": [
      "Successfully processed 316.jpg\n"
     ]
    },
    {
     "name": "stderr",
     "output_type": "stream",
     "text": [
      "Processing images in datasets/S1/S1_100shot:  32%|███▏      | 230/729 [06:35<15:03,  1.81s/it]"
     ]
    },
    {
     "name": "stdout",
     "output_type": "stream",
     "text": [
      "Successfully processed 317.jpg\n"
     ]
    },
    {
     "name": "stderr",
     "output_type": "stream",
     "text": [
      "Processing images in datasets/S1/S1_100shot:  32%|███▏      | 231/729 [06:35<11:29,  1.39s/it]"
     ]
    },
    {
     "name": "stdout",
     "output_type": "stream",
     "text": [
      "Successfully processed 318.jpg\n"
     ]
    },
    {
     "name": "stderr",
     "output_type": "stream",
     "text": [
      "Processing images in datasets/S1/S1_100shot:  32%|███▏      | 232/729 [06:36<10:13,  1.23s/it]"
     ]
    },
    {
     "name": "stdout",
     "output_type": "stream",
     "text": [
      "Successfully processed 319.jpg\n"
     ]
    },
    {
     "name": "stderr",
     "output_type": "stream",
     "text": [
      "Processing images in datasets/S1/S1_100shot:  32%|███▏      | 233/729 [06:41<19:41,  2.38s/it]"
     ]
    },
    {
     "name": "stdout",
     "output_type": "stream",
     "text": [
      "Successfully processed 32.jpg\n"
     ]
    },
    {
     "name": "stderr",
     "output_type": "stream",
     "text": [
      "Processing images in datasets/S1/S1_100shot:  32%|███▏      | 234/729 [06:42<15:20,  1.86s/it]"
     ]
    },
    {
     "name": "stdout",
     "output_type": "stream",
     "text": [
      "Successfully processed 320.jpg\n"
     ]
    },
    {
     "name": "stderr",
     "output_type": "stream",
     "text": [
      "Processing images in datasets/S1/S1_100shot:  32%|███▏      | 235/729 [06:42<11:33,  1.40s/it]"
     ]
    },
    {
     "name": "stdout",
     "output_type": "stream",
     "text": [
      "Successfully processed 321.jpg\n"
     ]
    },
    {
     "name": "stderr",
     "output_type": "stream",
     "text": [
      "Processing images in datasets/S1/S1_100shot:  32%|███▏      | 236/729 [06:43<09:53,  1.20s/it]"
     ]
    },
    {
     "name": "stdout",
     "output_type": "stream",
     "text": [
      "Successfully processed 322.jpg\n"
     ]
    },
    {
     "name": "stderr",
     "output_type": "stream",
     "text": [
      "Processing images in datasets/S1/S1_100shot:  33%|███▎      | 237/729 [06:48<19:17,  2.35s/it]"
     ]
    },
    {
     "name": "stdout",
     "output_type": "stream",
     "text": [
      "Successfully processed 323.jpg\n"
     ]
    },
    {
     "name": "stderr",
     "output_type": "stream",
     "text": [
      "Processing images in datasets/S1/S1_100shot:  33%|███▎      | 238/729 [06:49<14:58,  1.83s/it]"
     ]
    },
    {
     "name": "stdout",
     "output_type": "stream",
     "text": [
      "Successfully processed 324.jpg\n"
     ]
    },
    {
     "name": "stderr",
     "output_type": "stream",
     "text": [
      "Processing images in datasets/S1/S1_100shot:  33%|███▎      | 239/729 [06:49<11:15,  1.38s/it]"
     ]
    },
    {
     "name": "stdout",
     "output_type": "stream",
     "text": [
      "Successfully processed 325.jpg\n"
     ]
    },
    {
     "name": "stderr",
     "output_type": "stream",
     "text": [
      "Processing images in datasets/S1/S1_100shot:  33%|███▎      | 240/729 [06:49<09:05,  1.11s/it]"
     ]
    },
    {
     "name": "stdout",
     "output_type": "stream",
     "text": [
      "Successfully processed 326.jpg\n"
     ]
    },
    {
     "name": "stderr",
     "output_type": "stream",
     "text": [
      "Processing images in datasets/S1/S1_100shot:  33%|███▎      | 241/729 [06:55<19:23,  2.38s/it]"
     ]
    },
    {
     "name": "stdout",
     "output_type": "stream",
     "text": [
      "Successfully processed 327.jpg\n"
     ]
    },
    {
     "name": "stderr",
     "output_type": "stream",
     "text": [
      "Processing images in datasets/S1/S1_100shot:  33%|███▎      | 242/729 [06:55<14:43,  1.82s/it]"
     ]
    },
    {
     "name": "stdout",
     "output_type": "stream",
     "text": [
      "Successfully processed 328.jpg\n",
      "Successfully processed 329.jpg\n"
     ]
    },
    {
     "name": "stderr",
     "output_type": "stream",
     "text": [
      "Processing images in datasets/S1/S1_100shot:  33%|███▎      | 244/729 [06:56<09:10,  1.14s/it]"
     ]
    },
    {
     "name": "stdout",
     "output_type": "stream",
     "text": [
      "Successfully processed 33.jpg\n"
     ]
    },
    {
     "name": "stderr",
     "output_type": "stream",
     "text": [
      "Processing images in datasets/S1/S1_100shot:  34%|███▎      | 245/729 [07:02<18:27,  2.29s/it]"
     ]
    },
    {
     "name": "stdout",
     "output_type": "stream",
     "text": [
      "Successfully processed 330.jpg\n"
     ]
    },
    {
     "name": "stderr",
     "output_type": "stream",
     "text": [
      "Processing images in datasets/S1/S1_100shot:  34%|███▍      | 247/729 [07:02<11:02,  1.37s/it]"
     ]
    },
    {
     "name": "stdout",
     "output_type": "stream",
     "text": [
      "Successfully processed 331.jpg\n",
      "Successfully processed 332.jpg\n"
     ]
    },
    {
     "name": "stderr",
     "output_type": "stream",
     "text": [
      "Processing images in datasets/S1/S1_100shot:  34%|███▍      | 248/729 [07:03<09:11,  1.15s/it]"
     ]
    },
    {
     "name": "stdout",
     "output_type": "stream",
     "text": [
      "Successfully processed 333.jpg\n"
     ]
    },
    {
     "name": "stderr",
     "output_type": "stream",
     "text": [
      "Processing images in datasets/S1/S1_100shot:  34%|███▍      | 249/729 [07:08<18:55,  2.37s/it]"
     ]
    },
    {
     "name": "stdout",
     "output_type": "stream",
     "text": [
      "Successfully processed 334.jpg\n"
     ]
    },
    {
     "name": "stderr",
     "output_type": "stream",
     "text": [
      "Processing images in datasets/S1/S1_100shot:  34%|███▍      | 250/729 [07:09<15:13,  1.91s/it]"
     ]
    },
    {
     "name": "stdout",
     "output_type": "stream",
     "text": [
      "Successfully processed 335.jpg\n",
      "Successfully processed 336.jpg\n"
     ]
    },
    {
     "name": "stderr",
     "output_type": "stream",
     "text": [
      "Processing images in datasets/S1/S1_100shot:  35%|███▍      | 252/729 [07:10<10:05,  1.27s/it]"
     ]
    },
    {
     "name": "stdout",
     "output_type": "stream",
     "text": [
      "Successfully processed 337.jpg\n"
     ]
    },
    {
     "name": "stderr",
     "output_type": "stream",
     "text": [
      "Processing images in datasets/S1/S1_100shot:  35%|███▍      | 253/729 [07:16<18:21,  2.31s/it]"
     ]
    },
    {
     "name": "stdout",
     "output_type": "stream",
     "text": [
      "Successfully processed 338.jpg\n"
     ]
    },
    {
     "name": "stderr",
     "output_type": "stream",
     "text": [
      "Processing images in datasets/S1/S1_100shot:  35%|███▍      | 254/729 [07:16<14:28,  1.83s/it]"
     ]
    },
    {
     "name": "stdout",
     "output_type": "stream",
     "text": [
      "Successfully processed 339.jpg\n",
      "Successfully processed 34.jpg\n"
     ]
    },
    {
     "name": "stderr",
     "output_type": "stream",
     "text": [
      "Processing images in datasets/S1/S1_100shot:  35%|███▌      | 256/729 [07:17<09:38,  1.22s/it]"
     ]
    },
    {
     "name": "stdout",
     "output_type": "stream",
     "text": [
      "Successfully processed 340.jpg\n"
     ]
    },
    {
     "name": "stderr",
     "output_type": "stream",
     "text": [
      "Processing images in datasets/S1/S1_100shot:  35%|███▌      | 257/729 [07:22<16:51,  2.14s/it]"
     ]
    },
    {
     "name": "stdout",
     "output_type": "stream",
     "text": [
      "Successfully processed 341.jpg\n"
     ]
    },
    {
     "name": "stderr",
     "output_type": "stream",
     "text": [
      "Processing images in datasets/S1/S1_100shot:  36%|███▌      | 259/729 [07:23<10:51,  1.39s/it]"
     ]
    },
    {
     "name": "stdout",
     "output_type": "stream",
     "text": [
      "Successfully processed 342.jpg\n",
      "Successfully processed 343.jpg\n"
     ]
    },
    {
     "name": "stderr",
     "output_type": "stream",
     "text": [
      "Processing images in datasets/S1/S1_100shot:  36%|███▌      | 260/729 [07:24<09:31,  1.22s/it]"
     ]
    },
    {
     "name": "stdout",
     "output_type": "stream",
     "text": [
      "Successfully processed 344.jpg\n"
     ]
    },
    {
     "name": "stderr",
     "output_type": "stream",
     "text": [
      "Processing images in datasets/S1/S1_100shot:  36%|███▌      | 261/729 [07:29<17:36,  2.26s/it]"
     ]
    },
    {
     "name": "stdout",
     "output_type": "stream",
     "text": [
      "Successfully processed 345.jpg\n",
      "Successfully processed 347.jpg\n"
     ]
    },
    {
     "name": "stderr",
     "output_type": "stream",
     "text": [
      "Processing images in datasets/S1/S1_100shot:  36%|███▌      | 262/729 [07:30<15:24,  1.98s/it]"
     ]
    },
    {
     "name": "stdout",
     "output_type": "stream",
     "text": [
      "Successfully processed 346.jpg\n"
     ]
    },
    {
     "name": "stderr",
     "output_type": "stream",
     "text": [
      "Processing images in datasets/S1/S1_100shot:  36%|███▌      | 264/729 [07:31<09:44,  1.26s/it]"
     ]
    },
    {
     "name": "stdout",
     "output_type": "stream",
     "text": [
      "Successfully processed 348.jpg\n"
     ]
    },
    {
     "name": "stderr",
     "output_type": "stream",
     "text": [
      "Processing images in datasets/S1/S1_100shot:  36%|███▋      | 265/729 [07:39<22:32,  2.92s/it]"
     ]
    },
    {
     "name": "stdout",
     "output_type": "stream",
     "text": [
      "Successfully processed 349.jpg\n"
     ]
    }
   ],
   "source": [
    "import torch\n",
    "import numpy as np\n",
    "import matplotlib.pyplot as plt\n",
    "from torch.utils.data import DataLoader\n",
    "from PIL import Image\n",
    "import random\n",
    "\n",
    "import dancher_tools_segmentation as dt\n",
    "\n",
    "def check_dataloader_integrity(data_loader, num_samples=5):\n",
    "    \"\"\"\n",
    "    检查数据加载器是否正确加载数据，包括每个 batch 中图像和掩码的一致性。\n",
    "    \n",
    "    Args:\n",
    "        data_loader (DataLoader): 数据加载器。\n",
    "        num_samples (int): 要检查的样本数量。\n",
    "    \n",
    "    Returns:\n",
    "        list: 错误信息列表。\n",
    "    \"\"\"\n",
    "    errors = []\n",
    "\n",
    "    # 遍历数据加载器中的数据\n",
    "    iterator = iter(data_loader)\n",
    "    for _ in range(num_samples):\n",
    "        images, masks = next(iterator)\n",
    "\n",
    "        # 检查图像和掩码的形状一致性\n",
    "        if images.shape[0] != masks.shape[0]:\n",
    "            errors.append(f\"Batch 中图像和掩码数量不匹配: 图像 {images.shape[0]}，掩码 {masks.shape[0]}\")\n",
    "\n",
    "        # 检查图像和掩码的尺寸是否一致\n",
    "        for i in range(images.shape[0]):\n",
    "            if images.shape[2:] != masks.shape[2:]:\n",
    "                errors.append(f\"图像和掩码的尺寸不一致: 图像 {images.shape[2:]}，掩码 {masks.shape[2:]}\")\n",
    "\n",
    "        # 检查图像和掩码是否能够正常加载\n",
    "        try:\n",
    "            img = images[0].cpu().numpy().transpose(1, 2, 0)\n",
    "            mask = masks[0].cpu().numpy()[0]\n",
    "        except Exception as e:\n",
    "            errors.append(f\"无法加载图像或掩码: 错误 {e}\")\n",
    "            continue\n",
    "        \n",
    "        # 显示样本（如果没有错误）\n",
    "        plt.figure(figsize=(10, 5))\n",
    "        plt.subplot(1, 2, 1)\n",
    "        plt.imshow(img)\n",
    "        plt.title(\"Image\")\n",
    "        plt.axis('off')\n",
    "\n",
    "        plt.subplot(1, 2, 2)\n",
    "        plt.imshow(mask, cmap='gray')\n",
    "        plt.title(\"Mask\")\n",
    "        plt.axis('off')\n",
    "\n",
    "        plt.show()\n",
    "\n",
    "    return errors\n",
    "\n",
    "\n",
    "def validate_data_loaders(args):\n",
    "    \"\"\"\n",
    "    检查训练集和测试集加载器的完整性。\n",
    "    \n",
    "    Args:\n",
    "        args: 配置参数，包含数据加载器的设置。\n",
    "    \n",
    "    Returns:\n",
    "        list: 错误信息列表。\n",
    "    \"\"\"\n",
    "    # 获取数据加载器\n",
    "    train_loader, test_loader = dt.utils.get_dataloaders(args)\n",
    "\n",
    "    print(\"开始检查训练集数据加载器...\")\n",
    "    train_errors = check_dataloader_integrity(train_loader, num_samples=5)\n",
    "\n",
    "    print(\"开始检查测试集数据加载器...\")\n",
    "    test_errors = check_dataloader_integrity(test_loader, num_samples=5)\n",
    "\n",
    "    # 合并错误信息\n",
    "    all_errors = train_errors + test_errors\n",
    "    return all_errors\n",
    "\n",
    "\n",
    "if __name__ == \"__main__\":\n",
    "    # 加载配置文件\n",
    "    config_path = 'configs/S1/FLaTO.yaml'\n",
    "    args = dt.utils.get_config(config_path)\n",
    "\n",
    "    # 检查数据加载器\n",
    "    errors = validate_data_loaders(args)\n",
    "\n",
    "    if errors:\n",
    "        print(\"在数据加载器中发现了以下错误：\")\n",
    "        for error in errors:\n",
    "            print(error)\n",
    "    else:\n",
    "        print(\"数据加载器没有发现错误。\")\n"
   ]
  }
 ],
 "metadata": {
  "kernelspec": {
   "display_name": "iwanno",
   "language": "python",
   "name": "python3"
  },
  "language_info": {
   "codemirror_mode": {
    "name": "ipython",
    "version": 3
   },
   "file_extension": ".py",
   "mimetype": "text/x-python",
   "name": "python",
   "nbconvert_exporter": "python",
   "pygments_lexer": "ipython3",
   "version": "3.10.9"
  }
 },
 "nbformat": 4,
 "nbformat_minor": 2
}
